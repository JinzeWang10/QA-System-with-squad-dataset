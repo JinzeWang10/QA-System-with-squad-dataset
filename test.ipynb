{
 "cells": [
  {
   "cell_type": "code",
   "execution_count": 1,
   "metadata": {},
   "outputs": [
    {
     "name": "stderr",
     "output_type": "stream",
     "text": [
      "[nltk_data] Downloading package punkt to C:\\Users\\Jinze\n",
      "[nltk_data]     Wang\\AppData\\Roaming\\nltk_data...\n",
      "[nltk_data]   Package punkt is already up-to-date!\n"
     ]
    },
    {
     "data": {
      "text/plain": [
       "True"
      ]
     },
     "execution_count": 1,
     "metadata": {},
     "output_type": "execute_result"
    }
   ],
   "source": [
    "import warnings\n",
    "warnings.filterwarnings('ignore')\n",
    "import pickle\n",
    "import numpy as np\n",
    "import pandas as pd\n",
    "import json\n",
    "from textblob import TextBlob\n",
    "import nltk\n",
    "from scipy import spatial\n",
    "import torch\n",
    "import spacy\n",
    "from sentence_transformers import SentenceTransformer\n",
    "nltk.download('punkt')"
   ]
  },
  {
   "cell_type": "code",
   "execution_count": 2,
   "metadata": {},
   "outputs": [],
   "source": [
    "# read data to dataframe\n",
    "train_df = pd.read_json(\"data/train-v2.0.json\")\n",
    "# valid_df = pd.read_json(\"data/dev-v2.0.json\")"
   ]
  },
  {
   "cell_type": "code",
   "execution_count": 3,
   "metadata": {},
   "outputs": [
    {
     "data": {
      "text/plain": [
       "(442, 2)"
      ]
     },
     "execution_count": 3,
     "metadata": {},
     "output_type": "execute_result"
    }
   ],
   "source": [
    "train_df.shape"
   ]
  },
  {
   "cell_type": "code",
   "execution_count": 4,
   "metadata": {},
   "outputs": [
    {
     "data": {
      "text/html": [
       "<div>\n",
       "<style scoped>\n",
       "    .dataframe tbody tr th:only-of-type {\n",
       "        vertical-align: middle;\n",
       "    }\n",
       "\n",
       "    .dataframe tbody tr th {\n",
       "        vertical-align: top;\n",
       "    }\n",
       "\n",
       "    .dataframe thead th {\n",
       "        text-align: right;\n",
       "    }\n",
       "</style>\n",
       "<table border=\"1\" class=\"dataframe\">\n",
       "  <thead>\n",
       "    <tr style=\"text-align: right;\">\n",
       "      <th></th>\n",
       "      <th>version</th>\n",
       "      <th>data</th>\n",
       "    </tr>\n",
       "  </thead>\n",
       "  <tbody>\n",
       "    <tr>\n",
       "      <th>0</th>\n",
       "      <td>v2.0</td>\n",
       "      <td>{'title': 'Beyoncé', 'paragraphs': [{'qas': [{...</td>\n",
       "    </tr>\n",
       "    <tr>\n",
       "      <th>1</th>\n",
       "      <td>v2.0</td>\n",
       "      <td>{'title': 'Frédéric_Chopin', 'paragraphs': [{'...</td>\n",
       "    </tr>\n",
       "    <tr>\n",
       "      <th>2</th>\n",
       "      <td>v2.0</td>\n",
       "      <td>{'title': 'Sino-Tibetan_relations_during_the_M...</td>\n",
       "    </tr>\n",
       "    <tr>\n",
       "      <th>3</th>\n",
       "      <td>v2.0</td>\n",
       "      <td>{'title': 'IPod', 'paragraphs': [{'qas': [{'qu...</td>\n",
       "    </tr>\n",
       "    <tr>\n",
       "      <th>4</th>\n",
       "      <td>v2.0</td>\n",
       "      <td>{'title': 'The_Legend_of_Zelda:_Twilight_Princ...</td>\n",
       "    </tr>\n",
       "  </tbody>\n",
       "</table>\n",
       "</div>"
      ],
      "text/plain": [
       "  version                                               data\n",
       "0    v2.0  {'title': 'Beyoncé', 'paragraphs': [{'qas': [{...\n",
       "1    v2.0  {'title': 'Frédéric_Chopin', 'paragraphs': [{'...\n",
       "2    v2.0  {'title': 'Sino-Tibetan_relations_during_the_M...\n",
       "3    v2.0  {'title': 'IPod', 'paragraphs': [{'qas': [{'qu...\n",
       "4    v2.0  {'title': 'The_Legend_of_Zelda:_Twilight_Princ..."
      ]
     },
     "execution_count": 4,
     "metadata": {},
     "output_type": "execute_result"
    }
   ],
   "source": [
    "train_df.head(5)"
   ]
  },
  {
   "cell_type": "code",
   "execution_count": 10,
   "metadata": {},
   "outputs": [
    {
     "data": {
      "text/plain": [
       "{'qas': [{'question': \"What was Frédéric's nationalities?\",\n",
       "   'id': '56cbd2356d243a140015ed66',\n",
       "   'answers': [{'text': 'Polish and French', 'answer_start': 182}],\n",
       "   'is_impossible': False},\n",
       "  {'question': 'In what era was Frédéric active in?',\n",
       "   'id': '56cbd2356d243a140015ed67',\n",
       "   'answers': [{'text': 'Romantic era', 'answer_start': 276}],\n",
       "   'is_impossible': False},\n",
       "  {'question': 'For what instrument did Frédéric write primarily for?',\n",
       "   'id': '56cbd2356d243a140015ed68',\n",
       "   'answers': [{'text': 'solo piano', 'answer_start': 318}],\n",
       "   'is_impossible': False},\n",
       "  {'question': 'In what area was Frédéric born in?',\n",
       "   'id': '56cbd2356d243a140015ed69',\n",
       "   'answers': [{'text': 'Duchy of Warsaw', 'answer_start': 559}],\n",
       "   'is_impossible': False},\n",
       "  {'question': 'At what age did Frédéric depart from Poland?',\n",
       "   'id': '56cbd2356d243a140015ed6a',\n",
       "   'answers': [{'text': '20', 'answer_start': 777}],\n",
       "   'is_impossible': False},\n",
       "  {'question': 'What year was Chopin born?',\n",
       "   'id': '56ce0a3762d2951400fa69d6',\n",
       "   'answers': [{'text': '1810', 'answer_start': 113}],\n",
       "   'is_impossible': False},\n",
       "  {'question': 'What era was Chopin active during?',\n",
       "   'id': '56ce0a3762d2951400fa69d7',\n",
       "   'answers': [{'text': 'Romantic era', 'answer_start': 276}],\n",
       "   'is_impossible': False},\n",
       "  {'question': 'Where did Chopin grow up?',\n",
       "   'id': '56ce0a3762d2951400fa69d8',\n",
       "   'answers': [{'text': 'Warsaw', 'answer_start': 568}],\n",
       "   'is_impossible': False},\n",
       "  {'question': 'What instrument did he mostly compose for?',\n",
       "   'id': '56ce0a3762d2951400fa69d9',\n",
       "   'answers': [{'text': 'solo piano', 'answer_start': 318}],\n",
       "   'is_impossible': False},\n",
       "  {'question': 'At what age did Chopin  leave Poland?',\n",
       "   'id': '56ce0a3762d2951400fa69da',\n",
       "   'answers': [{'text': '20', 'answer_start': 777}],\n",
       "   'is_impossible': False},\n",
       "  {'question': 'When did Chopin die?',\n",
       "   'id': '56cf54a2aab44d1400b89006',\n",
       "   'answers': [{'text': '17 October 1849', 'answer_start': 120}],\n",
       "   'is_impossible': False},\n",
       "  {'question': \"What was Chopin's full name?\",\n",
       "   'id': '56cf54a2aab44d1400b89008',\n",
       "   'answers': [{'text': 'Fryderyk Franciszek Chopin', 'answer_start': 143}],\n",
       "   'is_impossible': False},\n",
       "  {'question': \"The majority of Chopin's compositions were for what instrument?\",\n",
       "   'id': '56cf54a2aab44d1400b89009',\n",
       "   'answers': [{'text': 'solo piano', 'answer_start': 318}],\n",
       "   'is_impossible': False},\n",
       "  {'question': 'Chopin was active during what era?',\n",
       "   'id': '56cf54a2aab44d1400b8900a',\n",
       "   'answers': [{'text': 'Romantic era', 'answer_start': 276}],\n",
       "   'is_impossible': False},\n",
       "  {'question': 'In what year was Chopin born?',\n",
       "   'id': '56d1ca30e7d4791d009021a7',\n",
       "   'answers': [{'text': '1810', 'answer_start': 113}],\n",
       "   'is_impossible': False},\n",
       "  {'question': 'In what city was Chopin born and raised?',\n",
       "   'id': '56d1ca30e7d4791d009021a8',\n",
       "   'answers': [{'text': 'Warsaw', 'answer_start': 568}],\n",
       "   'is_impossible': False},\n",
       "  {'question': 'How old was Chopin when he left Poland?',\n",
       "   'id': '56d1ca30e7d4791d009021a9',\n",
       "   'answers': [{'text': '20', 'answer_start': 777}],\n",
       "   'is_impossible': False},\n",
       "  {'question': 'In what era of music did Chopin compose?',\n",
       "   'id': '56d1ca30e7d4791d009021aa',\n",
       "   'answers': [{'text': 'Romantic', 'answer_start': 276}],\n",
       "   'is_impossible': False},\n",
       "  {'question': 'What year did Chopin die?',\n",
       "   'id': '56d1ca30e7d4791d009021ab',\n",
       "   'answers': [{'text': '1849', 'answer_start': 131}],\n",
       "   'is_impossible': False}],\n",
       " 'context': 'Frédéric François Chopin (/ˈʃoʊpæn/; French pronunciation: \\u200b[fʁe.de.ʁik fʁɑ̃.swa ʃɔ.pɛ̃]; 22 February or 1 March 1810 – 17 October 1849), born Fryderyk Franciszek Chopin,[n 1] was a Polish and French (by citizenship and birth of father) composer and a virtuoso pianist of the Romantic era, who wrote primarily for the solo piano. He gained and has maintained renown worldwide as one of the leading musicians of his era, whose \"poetic genius was based on a professional technique that was without equal in his generation.\" Chopin was born in what was then the Duchy of Warsaw, and grew up in Warsaw, which after 1815 became part of Congress Poland. A child prodigy, he completed his musical education and composed his earlier works in Warsaw before leaving Poland at the age of 20, less than a month before the outbreak of the November 1830 Uprising.'}"
      ]
     },
     "execution_count": 10,
     "metadata": {},
     "output_type": "execute_result"
    }
   ],
   "source": [
    "train_df.iloc[1,1]['paragraphs'][0]"
   ]
  },
  {
   "cell_type": "code",
   "execution_count": 11,
   "metadata": {},
   "outputs": [],
   "source": [
    "# Reformat the data\n",
    "contexts=[]\n",
    "questions=[]\n",
    "answer_texts=[]\n",
    "total_questions=0\n",
    "for i in range(train_df.shape[0]):\n",
    "    topic = train_df.iloc[i,1]['paragraphs']\n",
    "    for sub_para in topic:\n",
    "        for q_a in sub_para['qas']:\n",
    "            total_questions+=1\n",
    "            if not q_a['is_impossible']:\n",
    "                questions.append(q_a['question'])\n",
    "                answer_texts.append(q_a['answers'][0]['text'])\n",
    "                contexts.append(sub_para['context'])   \n",
    "df = pd.DataFrame({\"context\":contexts, \"question\": questions, \"text\": answer_texts})"
   ]
  },
  {
   "cell_type": "code",
   "execution_count": 13,
   "metadata": {},
   "outputs": [
    {
     "data": {
      "text/plain": [
       "0.6662190471074824"
      ]
     },
     "execution_count": 13,
     "metadata": {},
     "output_type": "execute_result"
    }
   ],
   "source": [
    "# only 67% of the questions can be answered\n",
    "len(df)/total_questions"
   ]
  },
  {
   "cell_type": "code",
   "execution_count": 14,
   "metadata": {},
   "outputs": [],
   "source": [
    "df.to_csv(\"data/train_data.csv\")"
   ]
  },
  {
   "cell_type": "code",
   "execution_count": 15,
   "metadata": {},
   "outputs": [
    {
     "data": {
      "text/html": [
       "<div>\n",
       "<style scoped>\n",
       "    .dataframe tbody tr th:only-of-type {\n",
       "        vertical-align: middle;\n",
       "    }\n",
       "\n",
       "    .dataframe tbody tr th {\n",
       "        vertical-align: top;\n",
       "    }\n",
       "\n",
       "    .dataframe thead th {\n",
       "        text-align: right;\n",
       "    }\n",
       "</style>\n",
       "<table border=\"1\" class=\"dataframe\">\n",
       "  <thead>\n",
       "    <tr style=\"text-align: right;\">\n",
       "      <th></th>\n",
       "      <th>context</th>\n",
       "      <th>question</th>\n",
       "      <th>text</th>\n",
       "    </tr>\n",
       "  </thead>\n",
       "  <tbody>\n",
       "    <tr>\n",
       "      <th>0</th>\n",
       "      <td>Beyoncé Giselle Knowles-Carter (/biːˈjɒnseɪ/ b...</td>\n",
       "      <td>When did Beyonce start becoming popular?</td>\n",
       "      <td>in the late 1990s</td>\n",
       "    </tr>\n",
       "    <tr>\n",
       "      <th>1</th>\n",
       "      <td>Beyoncé Giselle Knowles-Carter (/biːˈjɒnseɪ/ b...</td>\n",
       "      <td>What areas did Beyonce compete in when she was...</td>\n",
       "      <td>singing and dancing</td>\n",
       "    </tr>\n",
       "    <tr>\n",
       "      <th>2</th>\n",
       "      <td>Beyoncé Giselle Knowles-Carter (/biːˈjɒnseɪ/ b...</td>\n",
       "      <td>When did Beyonce leave Destiny's Child and bec...</td>\n",
       "      <td>2003</td>\n",
       "    </tr>\n",
       "    <tr>\n",
       "      <th>3</th>\n",
       "      <td>Beyoncé Giselle Knowles-Carter (/biːˈjɒnseɪ/ b...</td>\n",
       "      <td>In what city and state did Beyonce  grow up?</td>\n",
       "      <td>Houston, Texas</td>\n",
       "    </tr>\n",
       "    <tr>\n",
       "      <th>4</th>\n",
       "      <td>Beyoncé Giselle Knowles-Carter (/biːˈjɒnseɪ/ b...</td>\n",
       "      <td>In which decade did Beyonce become famous?</td>\n",
       "      <td>late 1990s</td>\n",
       "    </tr>\n",
       "  </tbody>\n",
       "</table>\n",
       "</div>"
      ],
      "text/plain": [
       "                                             context  \\\n",
       "0  Beyoncé Giselle Knowles-Carter (/biːˈjɒnseɪ/ b...   \n",
       "1  Beyoncé Giselle Knowles-Carter (/biːˈjɒnseɪ/ b...   \n",
       "2  Beyoncé Giselle Knowles-Carter (/biːˈjɒnseɪ/ b...   \n",
       "3  Beyoncé Giselle Knowles-Carter (/biːˈjɒnseɪ/ b...   \n",
       "4  Beyoncé Giselle Knowles-Carter (/biːˈjɒnseɪ/ b...   \n",
       "\n",
       "                                            question                 text  \n",
       "0           When did Beyonce start becoming popular?    in the late 1990s  \n",
       "1  What areas did Beyonce compete in when she was...  singing and dancing  \n",
       "2  When did Beyonce leave Destiny's Child and bec...                 2003  \n",
       "3      In what city and state did Beyonce  grow up?        Houston, Texas  \n",
       "4         In which decade did Beyonce become famous?           late 1990s  "
      ]
     },
     "execution_count": 15,
     "metadata": {},
     "output_type": "execute_result"
    }
   ],
   "source": [
    "df.head()"
   ]
  },
  {
   "cell_type": "code",
   "execution_count": 5,
   "metadata": {},
   "outputs": [],
   "source": [
    "# We want to create embeddings for each sentences, later we will just find the sentence where the answer text occurs in.\n",
    "# So here we collect all sentences\n",
    "contexts=list(df[\"context\"].drop_duplicates().reset_index(drop= True))\n",
    "blob=TextBlob(\" \".join(contexts))\n",
    "sentences = [item.raw for item in blob.sentences]\n",
    "questions = list(df['question'])"
   ]
  },
  {
   "cell_type": "code",
   "execution_count": 6,
   "metadata": {},
   "outputs": [],
   "source": [
    "# We need to find a way of embedding, here we use SBert for sentence embedding \n",
    "# details can be found here: https://www.sbert.net/docs/pretrained_models.html#multi-qa-models\n",
    "model = SentenceTransformer('multi-qa-MiniLM-L6-cos-v1')\n",
    "sentence_embeddings = model.encode(sentences)\n",
    "questions_embeddings = model.encode(questions)"
   ]
  },
  {
   "cell_type": "code",
   "execution_count": 7,
   "metadata": {},
   "outputs": [],
   "source": [
    "emb_dict={}\n",
    "for i in range(len(sentences)):\n",
    "    emb_dict[sentences[i]]=sentence_embeddings[i]\n",
    "for i in range(len(questions)):\n",
    "    emb_dict[questions[i]]=questions_embeddings[i]"
   ]
  },
  {
   "cell_type": "code",
   "execution_count": 28,
   "metadata": {},
   "outputs": [
    {
     "data": {
      "text/plain": [
       "\"Born and raised in Houston, Texas, she performed in various singing and dancing competitions as a child, and rose to fame in the late 1990s as lead singer of R&B girl-group Destiny's Child.\""
      ]
     },
     "execution_count": 28,
     "metadata": {},
     "output_type": "execute_result"
    }
   ],
   "source": [
    "sentences[1]"
   ]
  },
  {
   "cell_type": "code",
   "execution_count": 9,
   "metadata": {},
   "outputs": [
    {
     "data": {
      "text/plain": [
       "(384,)"
      ]
     },
     "execution_count": 9,
     "metadata": {},
     "output_type": "execute_result"
    }
   ],
   "source": [
    "emb_dict['At what age did Frédéric depart from Poland?'].shape"
   ]
  },
  {
   "cell_type": "code",
   "execution_count": 10,
   "metadata": {},
   "outputs": [],
   "source": [
    "with open('data/dict_embeddings.pickle', 'wb') as handle:\n",
    "    pickle.dump(emb_dict, handle)"
   ]
  }
 ],
 "metadata": {
  "kernelspec": {
   "display_name": "Python 3",
   "language": "python",
   "name": "python3"
  },
  "language_info": {
   "codemirror_mode": {
    "name": "ipython",
    "version": 3
   },
   "file_extension": ".py",
   "mimetype": "text/x-python",
   "name": "python",
   "nbconvert_exporter": "python",
   "pygments_lexer": "ipython3",
   "version": "3.11.0"
  },
  "orig_nbformat": 4
 },
 "nbformat": 4,
 "nbformat_minor": 2
}
